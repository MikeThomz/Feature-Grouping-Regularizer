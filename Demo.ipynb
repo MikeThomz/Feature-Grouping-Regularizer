{
 "cells": [
  {
   "cell_type": "code",
   "execution_count": 1,
   "metadata": {},
   "outputs": [],
   "source": [
    "import numpy as np\n",
    "from utils import prepare_face_data\n",
    "from architectures import Net, LeNet\n",
    "from solver import Solver"
   ]
  },
  {
   "cell_type": "code",
   "execution_count": 2,
   "metadata": {},
   "outputs": [],
   "source": [
    "X_train, X_test, y_train, y_test, masker = prepare_face_data(sigma=0.5) # High Noise Settings"
   ]
  },
  {
   "cell_type": "code",
   "execution_count": 3,
   "metadata": {},
   "outputs": [],
   "source": [
    "n_features = X_train.shape[1]; n_output = len(np.unique(y_train))\n",
    "\n",
    "# MLP Parameters\n",
    "hidden_layer_sizes = [256]\n",
    "activation = 'relu'\n",
    "\n",
    "# Feature Grouping Parameters\n",
    "n_clusters = 820 # k in the manuscript\n",
    "n_sample_rena = 50 # r in the manuscript\n",
    "n_phi = 100 # b in the manuscript\n",
    "dropout = 0.5 # let's apply dropout in the second layer\n",
    "\n",
    "# Training Parameters\n",
    "learning_rate = 0.05\n",
    "batch_size = 64\n",
    "seed = 10003\n",
    "early_stopping = False\n",
    "n_epochs = 1000\n",
    "display = 100"
   ]
  },
  {
   "cell_type": "code",
   "execution_count": 4,
   "metadata": {},
   "outputs": [],
   "source": [
    "# Construct MLP with Feature Grouping\n",
    "net_mlp_FG = Net(n_features, n_output, hidden_layer_sizes=hidden_layer_sizes,\n",
    "                 activation=activation, n_cluster=n_clusters, dropout=dropout)\n",
    "\n",
    "# Construct MLP with dropout but without Feature Grouping\n",
    "net_mlp_dropout = Net(n_features, n_output, hidden_layer_sizes=hidden_layer_sizes,\n",
    "                      activation=activation, n_cluster=None, dropout=dropout)\n",
    "\n",
    "# Construct MLP without dropout and Feature Grouping\n",
    "net_mlp_l2 = Net(n_features, n_output, hidden_layer_sizes=hidden_layer_sizes,\n",
    "                 activation=activation, n_cluster=None, dropout=0)\n",
    "\n",
    "# Construct CNN\n",
    "net_cnn = LeNet(n_output)"
   ]
  },
  {
   "cell_type": "markdown",
   "metadata": {},
   "source": [
    "### Train MLP with Feature Grouping"
   ]
  },
  {
   "cell_type": "code",
   "execution_count": 5,
   "metadata": {},
   "outputs": [],
   "source": [
    "solver = Solver(net_mlp_FG, learning_rate=learning_rate, n_epochs=n_epochs, \n",
    "                batch_size=batch_size, seed=seed, n_phi=n_phi,\n",
    "                n_sample_rena=n_sample_rena, masker=masker, lambda_l2=0,\n",
    "                lambda_l1=0, early_stopping=early_stopping, display=display)"
   ]
  },
  {
   "cell_type": "code",
   "execution_count": 6,
   "metadata": {},
   "outputs": [
    {
     "name": "stdout",
     "output_type": "stream",
     "text": [
      "Epoch 0\n",
      "Accuracy in Percentage for train: 5.03, for test : 3.79\n",
      "Epoch 100\n",
      "Accuracy in Percentage for train: 96.65, for test : 34.09\n",
      "Epoch 200\n",
      "Accuracy in Percentage for train: 100.00, for test : 63.64\n",
      "Epoch 300\n",
      "Accuracy in Percentage for train: 100.00, for test : 66.67\n",
      "Epoch 400\n",
      "Accuracy in Percentage for train: 100.00, for test : 66.67\n",
      "Epoch 500\n",
      "Accuracy in Percentage for train: 100.00, for test : 70.45\n",
      "Epoch 600\n",
      "Accuracy in Percentage for train: 100.00, for test : 68.18\n",
      "Epoch 700\n",
      "Accuracy in Percentage for train: 100.00, for test : 69.70\n",
      "Epoch 800\n",
      "Accuracy in Percentage for train: 100.00, for test : 68.94\n",
      "Epoch 900\n",
      "Accuracy in Percentage for train: 100.00, for test : 70.45\n"
     ]
    }
   ],
   "source": [
    "solver.train_numpy(X_train, y_train, X_test, y_test)"
   ]
  },
  {
   "cell_type": "markdown",
   "metadata": {},
   "source": [
    "### Train MLP with Dropout but without Feature Grouping"
   ]
  },
  {
   "cell_type": "code",
   "execution_count": 7,
   "metadata": {},
   "outputs": [],
   "source": [
    "solver = Solver(net_mlp_dropout, learning_rate=learning_rate, n_epochs=n_epochs, \n",
    "                batch_size=batch_size, seed=seed, n_phi=None,\n",
    "                n_sample_rena=None, masker=masker, lambda_l2=0,\n",
    "                lambda_l1=0, early_stopping=early_stopping, display=display)"
   ]
  },
  {
   "cell_type": "code",
   "execution_count": 8,
   "metadata": {},
   "outputs": [
    {
     "name": "stdout",
     "output_type": "stream",
     "text": [
      "Epoch 0\n",
      "Accuracy in Percentage for train: 6.15, for test : 0.76\n",
      "Epoch 100\n",
      "Accuracy in Percentage for train: 100.00, for test : 21.97\n",
      "Epoch 200\n",
      "Accuracy in Percentage for train: 100.00, for test : 25.76\n",
      "Epoch 300\n",
      "Accuracy in Percentage for train: 100.00, for test : 21.21\n",
      "Epoch 400\n",
      "Accuracy in Percentage for train: 100.00, for test : 30.30\n",
      "Epoch 500\n",
      "Accuracy in Percentage for train: 100.00, for test : 28.03\n",
      "Epoch 600\n",
      "Accuracy in Percentage for train: 100.00, for test : 28.79\n",
      "Epoch 700\n",
      "Accuracy in Percentage for train: 100.00, for test : 31.82\n",
      "Epoch 800\n",
      "Accuracy in Percentage for train: 100.00, for test : 33.33\n",
      "Epoch 900\n",
      "Accuracy in Percentage for train: 100.00, for test : 31.82\n"
     ]
    }
   ],
   "source": [
    "solver.train_numpy(X_train, y_train, X_test, y_test)"
   ]
  },
  {
   "cell_type": "markdown",
   "metadata": {},
   "source": [
    "### Train MLP without Dropout and without Feature Grouping"
   ]
  },
  {
   "cell_type": "code",
   "execution_count": 9,
   "metadata": {},
   "outputs": [],
   "source": [
    "solver = Solver(net_mlp_l2, learning_rate=learning_rate, n_epochs=n_epochs, \n",
    "                batch_size=batch_size, seed=seed, n_phi=None,\n",
    "                n_sample_rena=None, masker=masker, lambda_l2=0.01,\n",
    "                lambda_l1=0, early_stopping=early_stopping, display=display)"
   ]
  },
  {
   "cell_type": "code",
   "execution_count": 10,
   "metadata": {},
   "outputs": [
    {
     "name": "stdout",
     "output_type": "stream",
     "text": [
      "Epoch 0\n",
      "Accuracy in Percentage for train: 8.94, for test : 0.76\n",
      "Epoch 100\n",
      "Accuracy in Percentage for train: 100.00, for test : 19.70\n",
      "Epoch 200\n",
      "Accuracy in Percentage for train: 100.00, for test : 22.73\n",
      "Epoch 300\n",
      "Accuracy in Percentage for train: 100.00, for test : 21.97\n",
      "Epoch 400\n",
      "Accuracy in Percentage for train: 100.00, for test : 21.21\n",
      "Epoch 500\n",
      "Accuracy in Percentage for train: 100.00, for test : 21.21\n",
      "Epoch 600\n",
      "Accuracy in Percentage for train: 100.00, for test : 21.21\n",
      "Epoch 700\n",
      "Accuracy in Percentage for train: 100.00, for test : 24.24\n",
      "Epoch 800\n",
      "Accuracy in Percentage for train: 100.00, for test : 25.00\n",
      "Epoch 900\n",
      "Accuracy in Percentage for train: 100.00, for test : 25.00\n"
     ]
    }
   ],
   "source": [
    "solver.train_numpy(X_train, y_train, X_test, y_test)"
   ]
  },
  {
   "cell_type": "markdown",
   "metadata": {},
   "source": [
    "### Train CNN"
   ]
  },
  {
   "cell_type": "code",
   "execution_count": 11,
   "metadata": {},
   "outputs": [],
   "source": [
    "solver = Solver(net_cnn, learning_rate=learning_rate, n_epochs=n_epochs, \n",
    "                batch_size=batch_size, seed=seed, n_phi=None,\n",
    "                n_sample_rena=None, masker=masker, lambda_l2=0,\n",
    "                lambda_l1=0, early_stopping=early_stopping, display=display)"
   ]
  },
  {
   "cell_type": "code",
   "execution_count": 12,
   "metadata": {},
   "outputs": [
    {
     "name": "stdout",
     "output_type": "stream",
     "text": [
      "Epoch 0\n",
      "Accuracy in Percentage for train: 3.91, for test : 2.27\n",
      "Epoch 100\n",
      "Accuracy in Percentage for train: 86.03, for test : 21.97\n",
      "Epoch 200\n",
      "Accuracy in Percentage for train: 100.00, for test : 52.27\n",
      "Epoch 300\n",
      "Accuracy in Percentage for train: 100.00, for test : 56.06\n",
      "Epoch 400\n",
      "Accuracy in Percentage for train: 100.00, for test : 55.30\n",
      "Epoch 500\n",
      "Accuracy in Percentage for train: 100.00, for test : 46.97\n",
      "Epoch 600\n",
      "Accuracy in Percentage for train: 100.00, for test : 52.27\n",
      "Epoch 700\n",
      "Accuracy in Percentage for train: 100.00, for test : 51.52\n",
      "Epoch 800\n",
      "Accuracy in Percentage for train: 100.00, for test : 53.03\n",
      "Epoch 900\n",
      "Accuracy in Percentage for train: 100.00, for test : 50.76\n"
     ]
    }
   ],
   "source": [
    "solver.train_numpy(X_train, y_train, X_test, y_test)"
   ]
  },
  {
   "cell_type": "code",
   "execution_count": null,
   "metadata": {},
   "outputs": [],
   "source": []
  }
 ],
 "metadata": {
  "kernelspec": {
   "display_name": "Python 3",
   "language": "python",
   "name": "python3"
  },
  "language_info": {
   "codemirror_mode": {
    "name": "ipython",
    "version": 3
   },
   "file_extension": ".py",
   "mimetype": "text/x-python",
   "name": "python",
   "nbconvert_exporter": "python",
   "pygments_lexer": "ipython3",
   "version": "3.5.2"
  }
 },
 "nbformat": 4,
 "nbformat_minor": 2
}
